{
 "cells": [
  {
   "cell_type": "code",
   "execution_count": 53,
   "metadata": {},
   "outputs": [],
   "source": [
    "import numpy as np"
   ]
  },
  {
   "cell_type": "code",
   "execution_count": 50,
   "metadata": {},
   "outputs": [
    {
     "name": "stdout",
     "output_type": "stream",
     "text": [
      "[1 3 5 7 9]\n",
      "(5,)\n"
     ]
    }
   ],
   "source": [
    "#1d-array, 원소개수 5개\n",
    "data = [1, 3, 5, 7, 9]\n",
    "a = np.array(data)\n",
    "print(a)\n",
    "print(a.shape)"
   ]
  },
  {
   "cell_type": "code",
   "execution_count": 51,
   "metadata": {},
   "outputs": [
    {
     "name": "stdout",
     "output_type": "stream",
     "text": [
      "[[1]\n",
      " [3]\n",
      " [5]\n",
      " [7]\n",
      " [9]]\n",
      "(5, 1)\n"
     ]
    }
   ],
   "source": [
    "#2d-array, 5 X 1 matrix\n",
    "data = [[1], [3], [5], [7], [9]]\n",
    "a = np.array(data)\n",
    "print(a)\n",
    "print(a.shape)"
   ]
  },
  {
   "cell_type": "code",
   "execution_count": 52,
   "metadata": {},
   "outputs": [
    {
     "name": "stdout",
     "output_type": "stream",
     "text": [
      "[[1 3 5 7 9]]\n",
      "(1, 5)\n"
     ]
    }
   ],
   "source": [
    "#2d-array, 1 X 5 matrix\n",
    "data = [[1, 3, 5, 7, 9]]\n",
    "a = np.array(data)\n",
    "print(a)\n",
    "print(a.shape)"
   ]
  },
  {
   "cell_type": "code",
   "execution_count": 6,
   "metadata": {},
   "outputs": [
    {
     "name": "stdout",
     "output_type": "stream",
     "text": [
      "shape: (2, 3)\n",
      "b[0]: [1 2 3]\n",
      "b[1]: [4 5 6]\n",
      "b[0, 0]: 1\n",
      "b[1, 2] 6\n"
     ]
    }
   ],
   "source": [
    "#정답은 무엇일까요?\n",
    "b = np.array([[1, 2, 3], [4, 5, 6]])\n",
    "print('shape:', b.shape)\n",
    "print('b[0]:', b[0])\n",
    "print('b[1]:', b[1])\n",
    "print('b[0, 0]:', b[0, 0])\n",
    "print('b[1, 2]', b[1, 2])"
   ]
  },
  {
   "cell_type": "code",
   "execution_count": 7,
   "metadata": {},
   "outputs": [
    {
     "data": {
      "text/plain": [
       "array([0., 1., 2.])"
      ]
     },
     "execution_count": 7,
     "metadata": {},
     "output_type": "execute_result"
    }
   ],
   "source": [
    "np.arange(3.0)"
   ]
  },
  {
   "cell_type": "code",
   "execution_count": 8,
   "metadata": {},
   "outputs": [
    {
     "name": "stdout",
     "output_type": "stream",
     "text": [
      "[0 1 2]\n",
      "[3 4 5 6]\n",
      "[3 5]\n"
     ]
    }
   ],
   "source": [
    "#정답은 무엇일까요?\n",
    "print(np.arange(3))\n",
    "print(np.arange(3, 7))\n",
    "print(np.arange(3, 7, 2))"
   ]
  },
  {
   "cell_type": "code",
   "execution_count": 9,
   "metadata": {},
   "outputs": [
    {
     "data": {
      "text/plain": [
       "array([ 5.        ,  5.10204082,  5.20408163,  5.30612245,  5.40816327,\n",
       "        5.51020408,  5.6122449 ,  5.71428571,  5.81632653,  5.91836735,\n",
       "        6.02040816,  6.12244898,  6.2244898 ,  6.32653061,  6.42857143,\n",
       "        6.53061224,  6.63265306,  6.73469388,  6.83673469,  6.93877551,\n",
       "        7.04081633,  7.14285714,  7.24489796,  7.34693878,  7.44897959,\n",
       "        7.55102041,  7.65306122,  7.75510204,  7.85714286,  7.95918367,\n",
       "        8.06122449,  8.16326531,  8.26530612,  8.36734694,  8.46938776,\n",
       "        8.57142857,  8.67346939,  8.7755102 ,  8.87755102,  8.97959184,\n",
       "        9.08163265,  9.18367347,  9.28571429,  9.3877551 ,  9.48979592,\n",
       "        9.59183673,  9.69387755,  9.79591837,  9.89795918, 10.        ])"
      ]
     },
     "execution_count": 9,
     "metadata": {},
     "output_type": "execute_result"
    }
   ],
   "source": [
    "np.linspace(5, 10)"
   ]
  },
  {
   "cell_type": "code",
   "execution_count": 10,
   "metadata": {},
   "outputs": [
    {
     "data": {
      "text/plain": [
       "array([0.  , 0.25, 0.5 , 0.75, 1.  ])"
      ]
     },
     "execution_count": 10,
     "metadata": {},
     "output_type": "execute_result"
    }
   ],
   "source": [
    "np.linspace(0, 1, 5)"
   ]
  },
  {
   "cell_type": "code",
   "execution_count": 12,
   "metadata": {},
   "outputs": [
    {
     "data": {
      "text/plain": [
       "array([0. , 0.2, 0.4, 0.6, 0.8])"
      ]
     },
     "execution_count": 12,
     "metadata": {},
     "output_type": "execute_result"
    }
   ],
   "source": [
    "np.linspace(0, 1, 5, endpoint = False)"
   ]
  },
  {
   "cell_type": "code",
   "execution_count": 14,
   "metadata": {},
   "outputs": [
    {
     "data": {
      "text/plain": [
       "array([  0.,  25.,  50.,  75., 100.])"
      ]
     },
     "execution_count": 14,
     "metadata": {},
     "output_type": "execute_result"
    }
   ],
   "source": [
    "np.linspace(0, 100, num = 5)"
   ]
  },
  {
   "cell_type": "code",
   "execution_count": 15,
   "metadata": {},
   "outputs": [
    {
     "data": {
      "text/plain": [
       "array([  0,  25,  50,  75, 100])"
      ]
     },
     "execution_count": 15,
     "metadata": {},
     "output_type": "execute_result"
    }
   ],
   "source": [
    "np.linspace(0, 100, num = 5, dtype = int)"
   ]
  },
  {
   "cell_type": "markdown",
   "metadata": {},
   "source": [
    "rand(d0, d1, …, dn)\tRandom values in a given shape.\n",
    "randn(d0, d1, …, dn)\tReturn a sample (or samples) from the “standard normal” distribution.\n",
    "randint(low[, high, size, dtype])\tReturn random integers from low (inclusive) to high (exclusive)\n",
    "choice(a[, size, replace, p])\tGenerates a random sample from a given 1-D array"
   ]
  },
  {
   "cell_type": "code",
   "execution_count": 17,
   "metadata": {},
   "outputs": [
    {
     "data": {
      "text/plain": [
       "array([0.01485437, 0.45276207, 0.32420211, 0.20901997, 0.41279583])"
      ]
     },
     "execution_count": 17,
     "metadata": {},
     "output_type": "execute_result"
    }
   ],
   "source": [
    "#0과 1사이 n개의 균등분포(uniform distribution)\n",
    "np.random.rand(5)"
   ]
  },
  {
   "cell_type": "code",
   "execution_count": 18,
   "metadata": {},
   "outputs": [
    {
     "data": {
      "text/plain": [
       "array([0.68510773, 0.38058704, 0.2784105 , 0.78939536, 1.14345498])"
      ]
     },
     "execution_count": 18,
     "metadata": {},
     "output_type": "execute_result"
    }
   ],
   "source": [
    "#0과 1사이 n개의 표준정규분포(standard normal distribution)\n",
    "np.random.randn(5)"
   ]
  },
  {
   "cell_type": "code",
   "execution_count": 25,
   "metadata": {},
   "outputs": [
    {
     "data": {
      "text/plain": [
       "array([15, 15, 16, 13, 10])"
      ]
     },
     "execution_count": 25,
     "metadata": {},
     "output_type": "execute_result"
    }
   ],
   "source": [
    "np.random.randint(10, 20, 5)"
   ]
  },
  {
   "cell_type": "code",
   "execution_count": 33,
   "metadata": {},
   "outputs": [
    {
     "data": {
      "text/plain": [
       "array([1, 2, 3])"
      ]
     },
     "execution_count": 33,
     "metadata": {},
     "output_type": "execute_result"
    }
   ],
   "source": [
    "#주어진 1d-array로부터 random sample 생성\n",
    "#numpy.random.choice(a, size, replace, p)\n",
    "\n",
    "#a와 p 개수는 같아야 함\n",
    "#size는 a보다 작아야 함\n",
    "\n",
    "#4는 절대 안나옴\n",
    "np.random.choice(5, size = 3, replace = False, p = [0.2, 0.2, 0.5, 0.1, 0])"
   ]
  },
  {
   "cell_type": "code",
   "execution_count": 37,
   "metadata": {},
   "outputs": [
    {
     "name": "stdout",
     "output_type": "stream",
     "text": [
      "worst\n",
      "soso\n",
      "good\n",
      "soso\n",
      "worst\n",
      "worst\n",
      "good\n",
      "worst\n",
      "soso\n",
      "good\n"
     ]
    }
   ],
   "source": [
    "#메난민 사태\n",
    "weapons = ['worst', 'soso', 'good', 'best', 'superpower']\n",
    "chance = [0.4, 0.4, 0.2, 0, 0]\n",
    "\n",
    "#best와 superpower 무기는 절대 나오지 않는 ... \n",
    "for i in range(10):\n",
    "    print(np.random.choice(weapons, p = chance, replace = False))"
   ]
  },
  {
   "cell_type": "code",
   "execution_count": 41,
   "metadata": {},
   "outputs": [
    {
     "name": "stdout",
     "output_type": "stream",
     "text": [
      "2 * a:  [2 4 6]\n",
      "\n",
      "a + b: [11 22 33]\n",
      "a * b: [10 40 90]\n",
      "a / b: [0.1 0.1 0.1]\n",
      "a % b: [1 2 3]\n",
      "a - b: [ -9 -18 -27]\n",
      "\n",
      "[False  True False]\n",
      "[False False  True]\n",
      "[False  True False]\n"
     ]
    }
   ],
   "source": [
    "#정답은 무엇일까요?\n",
    "data = [1, 2, 3]\n",
    "a = np.array(data)\n",
    "a = 2 * a\n",
    "print('2 * a: ', a, end = '\\n\\n')\n",
    "\n",
    "a = np.array([1, 2, 3])\n",
    "b = np.array([10, 20, 30])\n",
    "print('a + b:', a + b)\n",
    "print('a * b:', a * b)\n",
    "print('a / b:', a / b)\n",
    "print('a % b:', a % b)\n",
    "print('a - b:', a - b, end = '\\n\\n')\n",
    "\n",
    "print(a == 2)\n",
    "print(b > 20)\n",
    "print((a == 2) & (b > 10))"
   ]
  },
  {
   "cell_type": "code",
   "execution_count": 44,
   "metadata": {},
   "outputs": [
    {
     "name": "stdout",
     "output_type": "stream",
     "text": [
      "[[1 2 3]\n",
      " [4 5 6]\n",
      " [7 8 9]]\n",
      "\n",
      "[[False False False]\n",
      " [ True  True  True]\n",
      " [False  True False]]\n",
      "\n",
      "[4 5 6 8]\n"
     ]
    }
   ],
   "source": [
    "#masking\n",
    "data = [[1, 2, 3], [4, 5, 6], [7, 8, 9]]\n",
    "a = np.array(data)\n",
    "print(a)\n",
    "print()\n",
    "\n",
    "bool_i = np.array([[False, False, False], [True, True, True], [False, True, False]])\n",
    "print(bool_i)\n",
    "print()\n",
    "\n",
    "b = a[bool_i]\n",
    "print(b)"
   ]
  },
  {
   "cell_type": "code",
   "execution_count": 49,
   "metadata": {},
   "outputs": [
    {
     "name": "stdout",
     "output_type": "stream",
     "text": [
      "홀수: [1 3 5 7 9]\n",
      "7보다 큰: [8 9]\n",
      "홀수 & 7보다 큰: [1 3 5 7 8 9]\n",
      "홀수 | 7보다 큰: [9]\n"
     ]
    }
   ],
   "source": [
    "#홀수인 원소만 선택\n",
    "b = a[a % 2 == 1]\n",
    "print('홀수:', b)\n",
    "\n",
    "#7보다 큰 원소만 선택\n",
    "b = a[a > 7]\n",
    "print('7보다 큰:', b)\n",
    "\n",
    "#홀수면서 7보다 큰 원소\n",
    "b = a[(a % 2 == 1) + (a > 7)]\n",
    "print('홀수 & 7보다 큰:', b)\n",
    "\n",
    "#홀수이고 7보다 큰 원소\n",
    "b = a[(a % 2 == 1) * (a > 7)]\n",
    "print('홀수 | 7보다 큰:', b)"
   ]
  },
  {
   "cell_type": "code",
   "execution_count": null,
   "metadata": {},
   "outputs": [],
   "source": []
  }
 ],
 "metadata": {
  "kernelspec": {
   "display_name": "Python 3",
   "language": "python",
   "name": "python3"
  },
  "language_info": {
   "codemirror_mode": {
    "name": "ipython",
    "version": 3
   },
   "file_extension": ".py",
   "mimetype": "text/x-python",
   "name": "python",
   "nbconvert_exporter": "python",
   "pygments_lexer": "ipython3",
   "version": "3.8.5"
  }
 },
 "nbformat": 4,
 "nbformat_minor": 4
}
