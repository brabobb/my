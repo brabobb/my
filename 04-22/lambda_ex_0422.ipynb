{
 "cells": [
  {
   "cell_type": "code",
   "execution_count": 3,
   "metadata": {},
   "outputs": [],
   "source": [
    "import numpy as np\n",
    "import pandas as pd\n",
    "import matplotlib.pyplot as plt\n",
    "import os\n",
    "from matplotlib.colors import ListedColormap\n",
    "import csv"
   ]
  },
  {
   "cell_type": "code",
   "execution_count": 8,
   "metadata": {},
   "outputs": [
    {
     "data": {
      "text/html": [
       "<div>\n",
       "<style scoped>\n",
       "    .dataframe tbody tr th:only-of-type {\n",
       "        vertical-align: middle;\n",
       "    }\n",
       "\n",
       "    .dataframe tbody tr th {\n",
       "        vertical-align: top;\n",
       "    }\n",
       "\n",
       "    .dataframe thead th {\n",
       "        text-align: right;\n",
       "    }\n",
       "</style>\n",
       "<table border=\"1\" class=\"dataframe\">\n",
       "  <thead>\n",
       "    <tr style=\"text-align: right;\">\n",
       "      <th></th>\n",
       "      <th>inst_id</th>\n",
       "      <th>OC</th>\n",
       "      <th>sido</th>\n",
       "      <th>sgg</th>\n",
       "      <th>openDate</th>\n",
       "      <th>bedCount</th>\n",
       "      <th>instkind</th>\n",
       "      <th>revenue1</th>\n",
       "      <th>salescost1</th>\n",
       "      <th>sga1</th>\n",
       "      <th>...</th>\n",
       "      <th>debt2</th>\n",
       "      <th>liquidLiabilities2</th>\n",
       "      <th>shortLoan2</th>\n",
       "      <th>NCLiabilities2</th>\n",
       "      <th>longLoan2</th>\n",
       "      <th>netAsset2</th>\n",
       "      <th>surplus2</th>\n",
       "      <th>employee1</th>\n",
       "      <th>employee2</th>\n",
       "      <th>ownerChange</th>\n",
       "    </tr>\n",
       "  </thead>\n",
       "  <tbody>\n",
       "    <tr>\n",
       "      <th>296</th>\n",
       "      <td>422</td>\n",
       "      <td>open</td>\n",
       "      <td>jeonnam</td>\n",
       "      <td>178</td>\n",
       "      <td>20050211</td>\n",
       "      <td>214.0</td>\n",
       "      <td>nursing_hospital</td>\n",
       "      <td>7.614697e+09</td>\n",
       "      <td>4.153475e+08</td>\n",
       "      <td>5.903119e+09</td>\n",
       "      <td>...</td>\n",
       "      <td>9.423771e+09</td>\n",
       "      <td>2.618201e+09</td>\n",
       "      <td>0.0</td>\n",
       "      <td>6.805570e+09</td>\n",
       "      <td>5.930000e+09</td>\n",
       "      <td>5.379502e+09</td>\n",
       "      <td>8.116416e+08</td>\n",
       "      <td>193.0</td>\n",
       "      <td>141.0</td>\n",
       "      <td>same</td>\n",
       "    </tr>\n",
       "    <tr>\n",
       "      <th>297</th>\n",
       "      <td>423</td>\n",
       "      <td>close</td>\n",
       "      <td>choongnam</td>\n",
       "      <td>159</td>\n",
       "      <td>20140618</td>\n",
       "      <td>NaN</td>\n",
       "      <td>hospital</td>\n",
       "      <td>6.717144e+09</td>\n",
       "      <td>8.200000e+09</td>\n",
       "      <td>0.000000e+00</td>\n",
       "      <td>...</td>\n",
       "      <td>0.000000e+00</td>\n",
       "      <td>0.000000e+00</td>\n",
       "      <td>0.0</td>\n",
       "      <td>0.000000e+00</td>\n",
       "      <td>0.000000e+00</td>\n",
       "      <td>0.000000e+00</td>\n",
       "      <td>0.000000e+00</td>\n",
       "      <td>79.0</td>\n",
       "      <td>79.0</td>\n",
       "      <td>same</td>\n",
       "    </tr>\n",
       "    <tr>\n",
       "      <th>298</th>\n",
       "      <td>426</td>\n",
       "      <td>close</td>\n",
       "      <td>gyeongbuk</td>\n",
       "      <td>107</td>\n",
       "      <td>19830705</td>\n",
       "      <td>NaN</td>\n",
       "      <td>hospital</td>\n",
       "      <td>0.000000e+00</td>\n",
       "      <td>0.000000e+00</td>\n",
       "      <td>5.479428e+07</td>\n",
       "      <td>...</td>\n",
       "      <td>6.370097e+09</td>\n",
       "      <td>2.170973e+09</td>\n",
       "      <td>0.0</td>\n",
       "      <td>4.199124e+09</td>\n",
       "      <td>2.498749e+09</td>\n",
       "      <td>3.259161e+09</td>\n",
       "      <td>0.000000e+00</td>\n",
       "      <td>NaN</td>\n",
       "      <td>NaN</td>\n",
       "      <td>NaN</td>\n",
       "    </tr>\n",
       "    <tr>\n",
       "      <th>299</th>\n",
       "      <td>427</td>\n",
       "      <td>close</td>\n",
       "      <td>gyeonggi</td>\n",
       "      <td>169</td>\n",
       "      <td>20070101</td>\n",
       "      <td>180.0</td>\n",
       "      <td>nursing_hospital</td>\n",
       "      <td>2.116892e+09</td>\n",
       "      <td>2.681748e+08</td>\n",
       "      <td>3.286245e+09</td>\n",
       "      <td>...</td>\n",
       "      <td>6.392336e+08</td>\n",
       "      <td>6.400000e+09</td>\n",
       "      <td>0.0</td>\n",
       "      <td>0.000000e+00</td>\n",
       "      <td>0.000000e+00</td>\n",
       "      <td>0.000000e+00</td>\n",
       "      <td>0.000000e+00</td>\n",
       "      <td>100.0</td>\n",
       "      <td>NaN</td>\n",
       "      <td>NaN</td>\n",
       "    </tr>\n",
       "    <tr>\n",
       "      <th>300</th>\n",
       "      <td>428</td>\n",
       "      <td>open</td>\n",
       "      <td>seoul</td>\n",
       "      <td>79</td>\n",
       "      <td>20011017</td>\n",
       "      <td>NaN</td>\n",
       "      <td>traditional_hospital</td>\n",
       "      <td>1.340971e+09</td>\n",
       "      <td>8.108450e+08</td>\n",
       "      <td>5.043409e+08</td>\n",
       "      <td>...</td>\n",
       "      <td>5.349000e+09</td>\n",
       "      <td>3.123072e+09</td>\n",
       "      <td>0.0</td>\n",
       "      <td>2.225928e+09</td>\n",
       "      <td>2.190000e+09</td>\n",
       "      <td>5.536178e+09</td>\n",
       "      <td>6.269440e+09</td>\n",
       "      <td>15.0</td>\n",
       "      <td>15.0</td>\n",
       "      <td>same</td>\n",
       "    </tr>\n",
       "  </tbody>\n",
       "</table>\n",
       "<p>5 rows × 58 columns</p>\n",
       "</div>"
      ],
      "text/plain": [
       "     inst_id      OC       sido  sgg  openDate  bedCount  \\\n",
       "296      422    open    jeonnam  178  20050211     214.0   \n",
       "297      423   close  choongnam  159  20140618       NaN   \n",
       "298      426   close  gyeongbuk  107  19830705       NaN   \n",
       "299      427   close   gyeonggi  169  20070101     180.0   \n",
       "300      428    open      seoul   79  20011017       NaN   \n",
       "\n",
       "                 instkind      revenue1    salescost1          sga1  ...  \\\n",
       "296      nursing_hospital  7.614697e+09  4.153475e+08  5.903119e+09  ...   \n",
       "297              hospital  6.717144e+09  8.200000e+09  0.000000e+00  ...   \n",
       "298              hospital  0.000000e+00  0.000000e+00  5.479428e+07  ...   \n",
       "299      nursing_hospital  2.116892e+09  2.681748e+08  3.286245e+09  ...   \n",
       "300  traditional_hospital  1.340971e+09  8.108450e+08  5.043409e+08  ...   \n",
       "\n",
       "            debt2  liquidLiabilities2  shortLoan2  NCLiabilities2  \\\n",
       "296  9.423771e+09        2.618201e+09         0.0    6.805570e+09   \n",
       "297  0.000000e+00        0.000000e+00         0.0    0.000000e+00   \n",
       "298  6.370097e+09        2.170973e+09         0.0    4.199124e+09   \n",
       "299  6.392336e+08        6.400000e+09         0.0    0.000000e+00   \n",
       "300  5.349000e+09        3.123072e+09         0.0    2.225928e+09   \n",
       "\n",
       "        longLoan2     netAsset2      surplus2  employee1  employee2  \\\n",
       "296  5.930000e+09  5.379502e+09  8.116416e+08      193.0      141.0   \n",
       "297  0.000000e+00  0.000000e+00  0.000000e+00       79.0       79.0   \n",
       "298  2.498749e+09  3.259161e+09  0.000000e+00        NaN        NaN   \n",
       "299  0.000000e+00  0.000000e+00  0.000000e+00      100.0        NaN   \n",
       "300  2.190000e+09  5.536178e+09  6.269440e+09       15.0       15.0   \n",
       "\n",
       "     ownerChange  \n",
       "296         same  \n",
       "297         same  \n",
       "298          NaN  \n",
       "299          NaN  \n",
       "300         same  \n",
       "\n",
       "[5 rows x 58 columns]"
      ]
     },
     "execution_count": 8,
     "metadata": {},
     "output_type": "execute_result"
    }
   ],
   "source": [
    "df = pd.read_csv('train.csv')\n",
    "df.tail()"
   ]
  },
  {
   "cell_type": "code",
   "execution_count": 21,
   "metadata": {},
   "outputs": [
    {
     "name": "stdout",
     "output_type": "stream",
     "text": [
      "모든 병원 평균 순이익:  210,170,013 원\n",
      "폐업 병원 평균 순이익:  4,120,362 원\n"
     ]
    }
   ],
   "source": [
    "with open('train.csv') as csv_file:\n",
    "    csv_reader = csv.reader(csv_file)\n",
    "    header = next(csv_reader)\n",
    "    \n",
    "    all_hos = []\n",
    "    close_hos = []\n",
    "    \n",
    "    for row in csv_reader:\n",
    "        if row[15] != 'NA':\n",
    "            all_hos.append(int(row[15]))\n",
    "        if row[15] != 'NA':\n",
    "            if row[1] == ' close':\n",
    "                close_hos.append(int(row[15]))\n",
    "    \n",
    "    avg_all = round(sum(all_hos) / len(all_hos))\n",
    "    avg_close = round(sum(close_hos) / len(close_hos))\n",
    "\n",
    "    print('모든 병원 평균 순이익: ', '{:,}'.format(avg_all), '원')\n",
    "    print('폐업 병원 평균 순이익: ', '{:,}'.format(avg_close), '원')\n"
   ]
  },
  {
   "cell_type": "code",
   "execution_count": 23,
   "metadata": {},
   "outputs": [
    {
     "data": {
      "text/plain": [
       "{'whiskers': [<matplotlib.lines.Line2D at 0x2ba064ef520>,\n",
       "  <matplotlib.lines.Line2D at 0x2ba064ef880>],\n",
       " 'caps': [<matplotlib.lines.Line2D at 0x2ba064efbe0>,\n",
       "  <matplotlib.lines.Line2D at 0x2ba064eff40>],\n",
       " 'boxes': [<matplotlib.lines.Line2D at 0x2ba064ef1c0>],\n",
       " 'medians': [<matplotlib.lines.Line2D at 0x2ba065012e0>],\n",
       " 'fliers': [<matplotlib.lines.Line2D at 0x2ba06501640>],\n",
       " 'means': []}"
      ]
     },
     "execution_count": 23,
     "metadata": {},
     "output_type": "execute_result"
    },
    {
     "data": {
      "image/png": "[encoded data removed]",
      "text/plain": [
       "<Figure size 432x288 with 1 Axes>"
      ]
     },
     "metadata": {
      "needs_background": "light"
     },
     "output_type": "display_data"
    }
   ],
   "source": [
    "df.boxplot(column='profit1', return_type='dict')"
   ]
  },
  {
   "cell_type": "code",
   "execution_count": 54,
   "metadata": {},
   "outputs": [
    {
     "name": "stdout",
     "output_type": "stream",
     "text": [
      "110\n"
     ]
    }
   ],
   "source": [
    "def test(x):\n",
    "    return x + 100\n",
    "print(test(10))"
   ]
  },
  {
   "cell_type": "code",
   "execution_count": 55,
   "metadata": {},
   "outputs": [
    {
     "data": {
      "text/plain": [
       "110"
      ]
     },
     "execution_count": 55,
     "metadata": {},
     "output_type": "execute_result"
    }
   ],
   "source": [
    "(lambda x: x + 100)(10)"
   ]
  },
  {
   "cell_type": "code",
   "execution_count": 56,
   "metadata": {},
   "outputs": [
    {
     "data": {
      "text/plain": [
       "110"
      ]
     },
     "execution_count": 56,
     "metadata": {},
     "output_type": "execute_result"
    }
   ],
   "source": [
    "y = 10\n",
    "(lambda x: x + y)(100)"
   ]
  },
  {
   "cell_type": "code",
   "execution_count": 57,
   "metadata": {},
   "outputs": [
    {
     "name": "stdout",
     "output_type": "stream",
     "text": [
      "[1, 2, 3]\n"
     ]
    },
    {
     "data": {
      "text/plain": [
       "[101, 102, 103]"
      ]
     },
     "execution_count": 57,
     "metadata": {},
     "output_type": "execute_result"
    }
   ],
   "source": [
    "#lst [1, 2, 3] 생성\n",
    "lst = list(range(1, 4))\n",
    "print(lst)\n",
    "\n",
    "#map은 for문과 비슷; list안의 원소를 하나씩 가져와서 test 함수의 인자로 전달\n",
    "list(map(test, lst))"
   ]
  },
  {
   "cell_type": "code",
   "execution_count": 58,
   "metadata": {},
   "outputs": [
    {
     "data": {
      "text/plain": [
       "[101, 102, 103]"
      ]
     },
     "execution_count": 58,
     "metadata": {},
     "output_type": "execute_result"
    }
   ],
   "source": [
    "#range 타입을 넣어도 수행 가능\n",
    "list(map(lambda x: x + 100, range(1, 4)))"
   ]
  },
  {
   "cell_type": "code",
   "execution_count": 45,
   "metadata": {},
   "outputs": [
    {
     "name": "stdout",
     "output_type": "stream",
     "text": [
      "[1, 2, 3, 4, 5, 6, 7, 8, 9, 10]\n"
     ]
    },
    {
     "data": {
      "text/plain": [
       "[1, 2, '3', 4, 5, '6', 7, 8, '9', 10]"
      ]
     },
     "execution_count": 45,
     "metadata": {},
     "output_type": "execute_result"
    }
   ],
   "source": [
    "#1~10 숫자를 담고 있는 lst_test 생성\n",
    "lst_test = list(range(1, 11))\n",
    "print(lst_test)\n",
    "\n",
    "list(map(lambda x: str(x) if x % 3 == 0 else x, lst_test))"
   ]
  },
  {
   "cell_type": "code",
   "execution_count": 47,
   "metadata": {},
   "outputs": [
    {
     "name": "stdout",
     "output_type": "stream",
     "text": [
      "[1, 2, '3', 4, 5, '6', 7, 8, '9', 10]\n"
     ]
    }
   ],
   "source": [
    "#list(map(lambda x: str(x) if x % 3 == 0 else x, lst_test)) 람다식 풀어쓰기\n",
    "result = []\n",
    "\n",
    "def test_f1(x):\n",
    "    if x % 3 == 0:\n",
    "        x = str(x)\n",
    "        result.append(x)\n",
    "    else: \n",
    "        x = x\n",
    "        result.append(x)\n",
    "\n",
    "for num in lst_test:\n",
    "    test_f1(num)\n",
    "        \n",
    "print(result)"
   ]
  },
  {
   "cell_type": "code",
   "execution_count": 48,
   "metadata": {},
   "outputs": [
    {
     "name": "stdout",
     "output_type": "stream",
     "text": [
      "[1, 2, 3, 4, 5, 6, 7, 8, 9, 10]\n"
     ]
    },
    {
     "data": {
      "text/plain": [
       "['1', 2.0, 103, 104, 105, 106, 107, 108, 109, 110]"
      ]
     },
     "execution_count": 48,
     "metadata": {},
     "output_type": "execute_result"
    }
   ],
   "source": [
    "#1~10 숫자를 담고 있는 lst_test 생성\n",
    "lst_test = list(range(1, 11))\n",
    "print(lst_test)\n",
    "\n",
    "list(map(lambda x: str(x) if x == 1 else float(x) if x == 2 else x + 100, lst_test))"
   ]
  },
  {
   "cell_type": "code",
   "execution_count": 49,
   "metadata": {},
   "outputs": [
    {
     "name": "stdout",
     "output_type": "stream",
     "text": [
      "['1', 2.0, 103, 104, 105, 106, 107, 108, 109, 110]\n"
     ]
    }
   ],
   "source": [
    "#람다식 풀어쓰기\n",
    "result = []\n",
    "\n",
    "def test_f2(x):\n",
    "    if x == 1:\n",
    "        x = str(x)\n",
    "        result.append(x)\n",
    "    elif x == 2: \n",
    "        x = float(x)\n",
    "        result.append(x)\n",
    "    else:\n",
    "        x += 100\n",
    "        result.append(x)\n",
    "\n",
    "for num in lst_test:\n",
    "    test_f2(num)\n",
    "        \n",
    "print(result)"
   ]
  },
  {
   "cell_type": "code",
   "execution_count": 75,
   "metadata": {},
   "outputs": [
    {
     "data": {
      "text/plain": [
       "[2, 8, 18, 32, 50]"
      ]
     },
     "execution_count": 75,
     "metadata": {},
     "output_type": "execute_result"
    }
   ],
   "source": [
    "a = list(range(1, 6))     #[1, 2, 3, 4, 5]\n",
    "b = list(range(2, 11, 2)) #[2, 4, 6, 8, 10]\n",
    "\n",
    "list(map(lambda x, y: x * y, a, b))"
   ]
  },
  {
   "cell_type": "code",
   "execution_count": 71,
   "metadata": {},
   "outputs": [
    {
     "name": "stdout",
     "output_type": "stream",
     "text": [
      "[6, 7, 8, 9, 10, 11, 12, 13, 14, 15]\n"
     ]
    },
    {
     "data": {
      "text/plain": [
       "[6, 7, 8, 9, 0, 0, 0, 0, 0, 0]"
      ]
     },
     "execution_count": 71,
     "metadata": {},
     "output_type": "execute_result"
    }
   ],
   "source": [
    "lst = list(range(6, 16))\n",
    "print(lst)\n",
    "list(map(lambda x: x if x > 5 and x < 10 else 0, lst))"
   ]
  },
  {
   "cell_type": "code",
   "execution_count": 74,
   "metadata": {},
   "outputs": [
    {
     "name": "stdout",
     "output_type": "stream",
     "text": [
      "[6, 7, 8, 9, 10, 11, 12, 13, 14, 15]\n"
     ]
    },
    {
     "data": {
      "text/plain": [
       "[6, 7, 8, 9]"
      ]
     },
     "execution_count": 74,
     "metadata": {},
     "output_type": "execute_result"
    }
   ],
   "source": [
    "lst = list(range(6, 16))\n",
    "print(lst) #6~15까지 숫자가 들어간 리스트\n",
    "\n",
    "def fnc(x):\n",
    "    return x > 5 and x < 10\n",
    "list(filter(fnc, lst))"
   ]
  },
  {
   "cell_type": "code",
   "execution_count": null,
   "metadata": {},
   "outputs": [],
   "source": []
  }
 ],
 "metadata": {
  "kernelspec": {
   "display_name": "Python 3",
   "language": "python",
   "name": "python3"
  },
  "language_info": {
   "codemirror_mode": {
    "name": "ipython",
    "version": 3
   },
   "file_extension": ".py",
   "mimetype": "text/x-python",
   "name": "python",
   "nbconvert_exporter": "python",
   "pygments_lexer": "ipython3",
   "version": "3.8.5"
  }
 },
 "nbformat": 4,
 "nbformat_minor": 4
}
