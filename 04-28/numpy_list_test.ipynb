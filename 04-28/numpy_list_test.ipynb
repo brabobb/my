{
 "cells": [
  {
   "cell_type": "code",
   "execution_count": 4,
   "metadata": {},
   "outputs": [
    {
     "name": "stdout",
     "output_type": "stream",
     "text": [
      "b list: [1, 2, 100, 4, 5]\n",
      "a list: [1, 2, 100, 4, 5]\n"
     ]
    }
   ],
   "source": [
    "#b는 a와 같은 참조 주소를 가짐\n",
    "a = [1, 2, 3, 4, 5]\n",
    "b = a\n",
    "b[2] = 100\n",
    "print('b list:', b)\n",
    "print('a list:', a)"
   ]
  },
  {
   "cell_type": "code",
   "execution_count": 5,
   "metadata": {},
   "outputs": [
    {
     "name": "stdout",
     "output_type": "stream",
     "text": [
      "b list: [1, 2, 100, 4, 5]\n",
      "a list: [1, 2, 3, 4, 5]\n"
     ]
    }
   ],
   "source": [
    "#copy: b는 a와 다른 참조 주소를 가짐\n",
    "a = [1, 2, 3, 4, 5]\n",
    "b = a[:]\n",
    "b[2] = 100\n",
    "print('b list:', b)\n",
    "print('a list:', a)"
   ]
  },
  {
   "cell_type": "code",
   "execution_count": 7,
   "metadata": {},
   "outputs": [
    {
     "name": "stdout",
     "output_type": "stream",
     "text": [
      "b list: [[100, 2, 3, 4, 5], [6, 7, 8, 9, 0]]\n",
      "a list: [[100, 2, 3, 4, 5], [6, 7, 8, 9, 0]]\n"
     ]
    }
   ],
   "source": [
    "#2차원 array 형태의 리스트\n",
    "#b는 a와 같은 참조 주소를 가짐\n",
    "a = [[1, 2, 3, 4, 5], [6, 7, 8, 9 ,0]]\n",
    "b = a\n",
    "b[0][0] = 100\n",
    "print('b list:', b)\n",
    "print('a list:', a)"
   ]
  },
  {
   "cell_type": "code",
   "execution_count": 8,
   "metadata": {},
   "outputs": [
    {
     "name": "stdout",
     "output_type": "stream",
     "text": [
      "b list: [[100, 2, 3, 4, 5], [6, 7, 8, 9, 0]]\n",
      "a list: [[100, 2, 3, 4, 5], [6, 7, 8, 9, 0]]\n"
     ]
    }
   ],
   "source": [
    "#얕은 copy한 결과\n",
    "a = [[1, 2, 3, 4, 5], [6, 7, 8, 9 ,0]]\n",
    "b = a[:]\n",
    "b[0][0] = 100\n",
    "print('b list:', b)\n",
    "print('a list:', a)"
   ]
  },
  {
   "cell_type": "code",
   "execution_count": null,
   "metadata": {},
   "outputs": [],
   "source": []
  }
 ],
 "metadata": {
  "kernelspec": {
   "display_name": "Python 3",
   "language": "python",
   "name": "python3"
  },
  "language_info": {
   "codemirror_mode": {
    "name": "ipython",
    "version": 3
   },
   "file_extension": ".py",
   "mimetype": "text/x-python",
   "name": "python",
   "nbconvert_exporter": "python",
   "pygments_lexer": "ipython3",
   "version": "3.8.5"
  }
 },
 "nbformat": 4,
 "nbformat_minor": 4
}
