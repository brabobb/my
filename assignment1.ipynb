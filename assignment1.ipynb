{
 "cells": [
  {
   "cell_type": "code",
   "execution_count": 2,
   "metadata": {
    "collapsed": false
   },
   "outputs": [
    {
     "name": "stdout",
     "output_type": "stream",
     "text": [
      "기상 관측 이래 서울의 최고 기온이 가장 높았던 날은 2018-08-01로, 39.6 도 였습니다.\n"
     ]
    }
   ],
   "source": [
    "import csv\n",
    "\n",
    "max_temp = -999\n",
    "max_date = ''\n",
    "\n",
    "f = open('seoul.csv')\n",
    "data = csv.reader(f)\n",
    "header = next(data)\n",
    "\n",
    "for row in data:\n",
    "    if row[-1] == '':\n",
    "        row[-1] = -999\n",
    "    row[-1] = float(row[-1])\n",
    "    \n",
    "    if row[-1] > max_temp:\n",
    "        max_temp = row[-1]\n",
    "        max_date = row[0]\n",
    "    \n",
    "f.close()\n",
    "print('기상 관측 이래 서울의 최고 기온이 가장 높았던 날은', max_date + '로,', max_temp, '도 였습니다.')"
   ]
  },
  {
   "cell_type": "code",
   "execution_count": null,
   "metadata": {
    "collapsed": true
   },
   "outputs": [],
   "source": []
  }
 ],
 "metadata": {
  "kernelspec": {
   "display_name": "Python 3",
   "language": "python",
   "name": "python3"
  },
  "language_info": {
   "codemirror_mode": {
    "name": "ipython",
    "version": 3
   },
   "file_extension": ".py",
   "mimetype": "text/x-python",
   "name": "python",
   "nbconvert_exporter": "python",
   "pygments_lexer": "ipython3",
   "version": "3.6.0"
  }
 },
 "nbformat": 4,
 "nbformat_minor": 2
}
